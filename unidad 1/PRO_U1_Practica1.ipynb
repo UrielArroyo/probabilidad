{
 "cells": [
  {
   "cell_type": "code",
   "execution_count": 1,
   "id": "07c7cb92-1cbc-426f-ad05-242d86672207",
   "metadata": {},
   "outputs": [],
   "source": [
    "#PROBABILIDAD Y ESTADISTICA\n",
    "##\n",
    "\n"
   ]
  },
  {
   "cell_type": "code",
   "execution_count": null,
   "id": "05d7c357",
   "metadata": {},
   "outputs": [],
   "source": [
    "from statistics import *"
   ]
  },
  {
   "cell_type": "code",
   "execution_count": 2,
   "id": "2616753f-d198-4a8b-9969-00bb709c1b11",
   "metadata": {},
   "outputs": [
    {
     "name": "stdout",
     "output_type": "stream",
     "text": [
      "[70, 70, 65, 90, 100, 95, 45, 80, 73, 20, 100, 96]\n"
     ]
    }
   ],
   "source": [
    "# Lista de calificaciones del grupo a de probabilidad y estadistica\n",
    "grupoa = [70, 70, 65, 90, 100, 95, 45, 80, 73, 20, 100, 96]\n",
    "print (grupoa)"
   ]
  },
  {
   "cell_type": "code",
   "execution_count": 3,
   "id": "e078e03c-b0b0-4cac-b78d-c602debeb507",
   "metadata": {},
   "outputs": [
    {
     "data": {
      "text/plain": [
       "list"
      ]
     },
     "execution_count": 3,
     "metadata": {},
     "output_type": "execute_result"
    }
   ],
   "source": [
    "# La funcion type nos devuelve el tipo de dato de la variable\n",
    "type(grupoa)"
   ]
  },
  {
   "cell_type": "code",
   "execution_count": 4,
   "id": "e2779d13-f09b-42ce-86bf-a6c9eb04e4ac",
   "metadata": {},
   "outputs": [
    {
     "name": "stdout",
     "output_type": "stream",
     "text": [
      "75.33333333333333\n"
     ]
    }
   ],
   "source": [
    "# Sacar la media con formula\n",
    "promedio = sum(grupoa)/len(grupoa)\n",
    "print (promedio)"
   ]
  },
  {
   "cell_type": "code",
   "execution_count": 5,
   "id": "2e555f6d-3be0-4360-9f53-852bc76cd8a1",
   "metadata": {},
   "outputs": [
    {
     "name": "stdout",
     "output_type": "stream",
     "text": [
      "75.33333333333333\n"
     ]
    }
   ],
   "source": [
    "#Utilizar la funcion mean que esta en la libreria statistics para sacar el promedio\n",
    "promedio2 = mean(grupoa)\n",
    "print (promedio2)"
   ]
  },
  {
   "cell_type": "code",
   "execution_count": 6,
   "id": "e67bac9f-da50-403e-ba90-40f4992fa010",
   "metadata": {},
   "outputs": [
    {
     "name": "stdout",
     "output_type": "stream",
     "text": [
      "76.5\n"
     ]
    }
   ],
   "source": [
    "#Determinar el valor de la mediana\n",
    "mediana = median(grupoa)\n",
    "print (mediana)"
   ]
  },
  {
   "cell_type": "code",
   "execution_count": 7,
   "id": "472ef038-395b-41de-b423-a58910afc6f3",
   "metadata": {},
   "outputs": [
    {
     "name": "stdout",
     "output_type": "stream",
     "text": [
      "[15.1, 17.2, 14.69, 13.27, 22.15, 18.71, 19.15, 20.65, 15.1, 17.2]\n"
     ]
    }
   ],
   "source": [
    "#Lista de tiempos 100 metros\n",
    "tiempos100mts = [15.10, 17.20, 14.69, 13.27, 22.15, 18.71, 19.15, 20.65, 15.10, 17.20]\n",
    "print (tiempos100mts)"
   ]
  },
  {
   "cell_type": "code",
   "execution_count": 8,
   "id": "f3d78aaa-adb4-489f-94bc-f28d43637c27",
   "metadata": {},
   "outputs": [
    {
     "name": "stdout",
     "output_type": "stream",
     "text": [
      "El tiempo promedio de los corredores es:  17.322\n"
     ]
    }
   ],
   "source": [
    "print (\"El tiempo promedio de los corredores es: \", mean(tiempos100mts) )"
   ]
  },
  {
   "cell_type": "code",
   "execution_count": 9,
   "id": "dc6c07bb-065c-4165-a7a3-01ef2e61497c",
   "metadata": {},
   "outputs": [
    {
     "name": "stdout",
     "output_type": "stream",
     "text": [
      "La media del tiempo de los corredores es:  17.2\n"
     ]
    }
   ],
   "source": [
    "mediana100mts= median (tiempos100mts)\n",
    "print (\"La media del tiempo de los corredores es: \", mediana100mts)"
   ]
  },
  {
   "cell_type": "code",
   "execution_count": 10,
   "id": "413fcd37-e299-4045-9a9d-4697bd8a74ae",
   "metadata": {},
   "outputs": [
    {
     "name": "stdout",
     "output_type": "stream",
     "text": [
      "La moda de los tiempos es:  15.1\n"
     ]
    }
   ],
   "source": [
    "moda = mode(tiempos100mts)\n",
    "print (\"La moda de los tiempos es: \", moda)"
   ]
  },
  {
   "cell_type": "code",
   "execution_count": 11,
   "id": "cefda6cb-8cba-4ec6-9570-6f7f351c9732",
   "metadata": {},
   "outputs": [
    {
     "name": "stdout",
     "output_type": "stream",
     "text": [
      "La moda de los tiempos es:  [15.1, 17.2]\n"
     ]
    }
   ],
   "source": [
    "multimodas = multimode(tiempos100mts)\n",
    "print (\"La moda de los tiempos es: \", multimodas)"
   ]
  },
  {
   "cell_type": "code",
   "execution_count": null,
   "id": "e834384d-f7ba-4b66-8dbc-2b1a435e3590",
   "metadata": {},
   "outputs": [],
   "source": []
  }
 ],
 "metadata": {
  "kernelspec": {
   "display_name": "Python 3 (ipykernel)",
   "language": "python",
   "name": "python3"
  },
  "language_info": {
   "codemirror_mode": {
    "name": "ipython",
    "version": 3
   },
   "file_extension": ".py",
   "mimetype": "text/x-python",
   "name": "python",
   "nbconvert_exporter": "python",
   "pygments_lexer": "ipython3",
   "version": "3.11.5"
  }
 },
 "nbformat": 4,
 "nbformat_minor": 5
}
